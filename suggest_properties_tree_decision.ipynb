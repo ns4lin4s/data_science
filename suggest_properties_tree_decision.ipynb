{
  "nbformat": 4,
  "nbformat_minor": 0,
  "metadata": {
    "colab": {
      "name": "suggest_properties_tree_decision.ipynb",
      "provenance": [],
      "authorship_tag": "ABX9TyO1emUaUXBm5++11MdZJ+XS",
      "include_colab_link": true
    },
    "kernelspec": {
      "name": "python3",
      "display_name": "Python 3"
    },
    "language_info": {
      "name": "python"
    }
  },
  "cells": [
    {
      "cell_type": "markdown",
      "metadata": {
        "id": "view-in-github",
        "colab_type": "text"
      },
      "source": [
        "<a href=\"https://colab.research.google.com/github/ns4lin4s/data_science/blob/master/suggest_properties_tree_decision.ipynb\" target=\"_parent\"><img src=\"https://colab.research.google.com/assets/colab-badge.svg\" alt=\"Open In Colab\"/></a>"
      ]
    },
    {
      "cell_type": "code",
      "metadata": {
        "id": "L-OwiRQ8lzQu"
      },
      "source": [
        "import pandas as pd\n",
        "import matplotlib.pyplot as plt\n",
        "import seaborn as sns\n",
        "from sklearn import datasets\n",
        "from sklearn import metrics\n",
        "from sklearn.preprocessing import StandardScaler #Necesario para la estandarizacion de los datos\n",
        "import numpy as np\n",
        "from sklearn import tree #Arbol de decision\n",
        "from sklearn.model_selection import train_test_split #Nos permite generar los datos de entrenamiento y prueba\n",
        "pd.options.mode.chained_assignment = None"
      ],
      "execution_count": 173,
      "outputs": []
    },
    {
      "cell_type": "markdown",
      "metadata": {
        "id": "H_4DeUm_tcWM"
      },
      "source": [
        "**Cargar CSV**"
      ]
    },
    {
      "cell_type": "code",
      "metadata": {
        "colab": {
          "base_uri": "https://localhost:8080/",
          "height": 419
        },
        "id": "8XKzv5x1l2cw",
        "outputId": "5713994a-b28a-42af-f4f5-873bf47cb5df"
      },
      "source": [
        "df = pd.read_csv('propiedades_favoritas.csv')\n",
        "df"
      ],
      "execution_count": 174,
      "outputs": [
        {
          "output_type": "execute_result",
          "data": {
            "text/html": [
              "<div>\n",
              "<style scoped>\n",
              "    .dataframe tbody tr th:only-of-type {\n",
              "        vertical-align: middle;\n",
              "    }\n",
              "\n",
              "    .dataframe tbody tr th {\n",
              "        vertical-align: top;\n",
              "    }\n",
              "\n",
              "    .dataframe thead th {\n",
              "        text-align: right;\n",
              "    }\n",
              "</style>\n",
              "<table border=\"1\" class=\"dataframe\">\n",
              "  <thead>\n",
              "    <tr style=\"text-align: right;\">\n",
              "      <th></th>\n",
              "      <th>IdComuna</th>\n",
              "      <th>PrecioDesde</th>\n",
              "      <th>SuperficieUtilDesde</th>\n",
              "      <th>BanosDesde</th>\n",
              "      <th>DormitoriosDesde</th>\n",
              "      <th>IdRegion</th>\n",
              "      <th>Interes</th>\n",
              "    </tr>\n",
              "  </thead>\n",
              "  <tbody>\n",
              "    <tr>\n",
              "      <th>0</th>\n",
              "      <td>3</td>\n",
              "      <td>2350.00</td>\n",
              "      <td>44.90</td>\n",
              "      <td>1</td>\n",
              "      <td>2</td>\n",
              "      <td>15</td>\n",
              "      <td>0</td>\n",
              "    </tr>\n",
              "    <tr>\n",
              "      <th>1</th>\n",
              "      <td>3</td>\n",
              "      <td>42500.00</td>\n",
              "      <td>0.00</td>\n",
              "      <td>0</td>\n",
              "      <td>0</td>\n",
              "      <td>15</td>\n",
              "      <td>0</td>\n",
              "    </tr>\n",
              "    <tr>\n",
              "      <th>2</th>\n",
              "      <td>8</td>\n",
              "      <td>2350.00</td>\n",
              "      <td>46.95</td>\n",
              "      <td>1</td>\n",
              "      <td>1</td>\n",
              "      <td>1</td>\n",
              "      <td>0</td>\n",
              "    </tr>\n",
              "    <tr>\n",
              "      <th>3</th>\n",
              "      <td>8</td>\n",
              "      <td>2550.00</td>\n",
              "      <td>45.00</td>\n",
              "      <td>1</td>\n",
              "      <td>1</td>\n",
              "      <td>1</td>\n",
              "      <td>0</td>\n",
              "    </tr>\n",
              "    <tr>\n",
              "      <th>4</th>\n",
              "      <td>8</td>\n",
              "      <td>2600.00</td>\n",
              "      <td>53.00</td>\n",
              "      <td>1</td>\n",
              "      <td>3</td>\n",
              "      <td>1</td>\n",
              "      <td>0</td>\n",
              "    </tr>\n",
              "    <tr>\n",
              "      <th>...</th>\n",
              "      <td>...</td>\n",
              "      <td>...</td>\n",
              "      <td>...</td>\n",
              "      <td>...</td>\n",
              "      <td>...</td>\n",
              "      <td>...</td>\n",
              "      <td>...</td>\n",
              "    </tr>\n",
              "    <tr>\n",
              "      <th>1003</th>\n",
              "      <td>340</td>\n",
              "      <td>4555.00</td>\n",
              "      <td>40.30</td>\n",
              "      <td>1</td>\n",
              "      <td>1</td>\n",
              "      <td>13</td>\n",
              "      <td>1</td>\n",
              "    </tr>\n",
              "    <tr>\n",
              "      <th>1004</th>\n",
              "      <td>342</td>\n",
              "      <td>0.15</td>\n",
              "      <td>2364.00</td>\n",
              "      <td>0</td>\n",
              "      <td>0</td>\n",
              "      <td>13</td>\n",
              "      <td>1</td>\n",
              "    </tr>\n",
              "    <tr>\n",
              "      <th>1005</th>\n",
              "      <td>342</td>\n",
              "      <td>12.00</td>\n",
              "      <td>0.00</td>\n",
              "      <td>0</td>\n",
              "      <td>0</td>\n",
              "      <td>13</td>\n",
              "      <td>1</td>\n",
              "    </tr>\n",
              "    <tr>\n",
              "      <th>1006</th>\n",
              "      <td>342</td>\n",
              "      <td>4900.00</td>\n",
              "      <td>58.94</td>\n",
              "      <td>2</td>\n",
              "      <td>2</td>\n",
              "      <td>13</td>\n",
              "      <td>1</td>\n",
              "    </tr>\n",
              "    <tr>\n",
              "      <th>1007</th>\n",
              "      <td>343</td>\n",
              "      <td>22900.00</td>\n",
              "      <td>0.00</td>\n",
              "      <td>0</td>\n",
              "      <td>0</td>\n",
              "      <td>1</td>\n",
              "      <td>0</td>\n",
              "    </tr>\n",
              "  </tbody>\n",
              "</table>\n",
              "<p>1008 rows × 7 columns</p>\n",
              "</div>"
            ],
            "text/plain": [
              "      IdComuna  PrecioDesde  ...  IdRegion  Interes\n",
              "0            3      2350.00  ...        15        0\n",
              "1            3     42500.00  ...        15        0\n",
              "2            8      2350.00  ...         1        0\n",
              "3            8      2550.00  ...         1        0\n",
              "4            8      2600.00  ...         1        0\n",
              "...        ...          ...  ...       ...      ...\n",
              "1003       340      4555.00  ...        13        1\n",
              "1004       342         0.15  ...        13        1\n",
              "1005       342        12.00  ...        13        1\n",
              "1006       342      4900.00  ...        13        1\n",
              "1007       343     22900.00  ...         1        0\n",
              "\n",
              "[1008 rows x 7 columns]"
            ]
          },
          "metadata": {
            "tags": []
          },
          "execution_count": 174
        }
      ]
    },
    {
      "cell_type": "markdown",
      "metadata": {
        "id": "Ah9Kefq5uGIz"
      },
      "source": [
        "**Visualizando la distribución de propiedades favoritas**"
      ]
    },
    {
      "cell_type": "code",
      "metadata": {
        "colab": {
          "base_uri": "https://localhost:8080/",
          "height": 329
        },
        "id": "mtbSGahDuEr0",
        "outputId": "45ab0c06-d7fb-428a-d400-92a441f2bfe0"
      },
      "source": [
        "#Arreglo con la información de interés acerca de la propiedad\n",
        "arr_interest = df['Interes'].value_counts()\n",
        "print(arr_interest)\n",
        "#Configuramos nuestro grafico de tipo barra y de color azul y rojo.\n",
        "arr_interest.plot(kind = 'bar', color = ['b', 'r', 'g', 'y'])\n",
        "plt.title('Distribución de interés')\n",
        "#plt.xlabel(f'No: {str(arr_interest[0])} | Sí: {str(arr_interest[1])}')\n",
        "plt.show()"
      ],
      "execution_count": 175,
      "outputs": [
        {
          "output_type": "stream",
          "text": [
            "1    521\n",
            "0    487\n",
            "Name: Interes, dtype: int64\n"
          ],
          "name": "stdout"
        },
        {
          "output_type": "display_data",
          "data": {
            "image/png": "[encoded data removed]",
            "text/plain": [
              "<Figure size 432x288 with 1 Axes>"
            ]
          },
          "metadata": {
            "tags": [],
            "needs_background": "light"
          }
        }
      ]
    },
    {
      "cell_type": "markdown",
      "metadata": {
        "id": "F6n9VizBvzh6"
      },
      "source": [
        "**Pre-procesamiento**"
      ]
    },
    {
      "cell_type": "code",
      "metadata": {
        "colab": {
          "base_uri": "https://localhost:8080/"
        },
        "id": "MT55q27Xv5fb",
        "outputId": "607e9148-2a22-482c-f3a9-2737897459fa"
      },
      "source": [
        "features_cols = [\"PrecioDesde\",\"DormitoriosDesde\", \"SuperficieUtilDesde\", \"IdComuna\", \"IdRegion\" , \"BanosDesde\"]\n",
        "\n",
        "greater_than_price = (df['PrecioDesde'] > 1900)\n",
        "\n",
        "df = df.where(greater_than_price).dropna()\n",
        "\n",
        "less_than_area = (df['SuperficieUtilDesde'] < 500)\n",
        "\n",
        "df = df.where(less_than_area).dropna()\n",
        "\n",
        "train_predictor = df[features_cols]\n",
        "\n",
        "train_predictor.loc[train_predictor['BanosDesde'] == 0, 'BanosDesde'] = 1\n",
        "\n",
        "train_predictor.loc[train_predictor['DormitoriosDesde'] == 0, 'DormitoriosDesde'] = 1\n",
        "\n",
        "train_predictor.loc[train_predictor['SuperficieUtilDesde'] < 20, 'SuperficieUtilDesde'] = train_predictor['SuperficieUtilDesde'].median()\n",
        "\n",
        "print(train_predictor)\n"
      ],
      "execution_count": 176,
      "outputs": [
        {
          "output_type": "stream",
          "text": [
            "      PrecioDesde  DormitoriosDesde  ...  IdRegion  BanosDesde\n",
            "0          2350.0               2.0  ...      15.0         1.0\n",
            "1         42500.0               1.0  ...      15.0         1.0\n",
            "2          2350.0               1.0  ...       1.0         1.0\n",
            "3          2550.0               1.0  ...       1.0         1.0\n",
            "4          2600.0               3.0  ...       1.0         1.0\n",
            "...           ...               ...  ...       ...         ...\n",
            "936        7220.0               2.0  ...      13.0         2.0\n",
            "937        8757.0               2.0  ...      13.0         2.0\n",
            "1003       4555.0               1.0  ...      13.0         1.0\n",
            "1006       4900.0               2.0  ...      13.0         2.0\n",
            "1007      22900.0               1.0  ...       1.0         1.0\n",
            "\n",
            "[480 rows x 6 columns]\n"
          ],
          "name": "stdout"
        }
      ]
    },
    {
      "cell_type": "code",
      "metadata": {
        "colab": {
          "base_uri": "https://localhost:8080/",
          "height": 204
        },
        "id": "lR5NypaxwtxW",
        "outputId": "b7eb6cdc-497b-4c51-a043-4a4ba4e08b7d"
      },
      "source": [
        "dummy = pd.get_dummies(train_predictor)\n",
        "dummy.head()"
      ],
      "execution_count": 177,
      "outputs": [
        {
          "output_type": "execute_result",
          "data": {
            "text/html": [
              "<div>\n",
              "<style scoped>\n",
              "    .dataframe tbody tr th:only-of-type {\n",
              "        vertical-align: middle;\n",
              "    }\n",
              "\n",
              "    .dataframe tbody tr th {\n",
              "        vertical-align: top;\n",
              "    }\n",
              "\n",
              "    .dataframe thead th {\n",
              "        text-align: right;\n",
              "    }\n",
              "</style>\n",
              "<table border=\"1\" class=\"dataframe\">\n",
              "  <thead>\n",
              "    <tr style=\"text-align: right;\">\n",
              "      <th></th>\n",
              "      <th>PrecioDesde</th>\n",
              "      <th>DormitoriosDesde</th>\n",
              "      <th>SuperficieUtilDesde</th>\n",
              "      <th>IdComuna</th>\n",
              "      <th>IdRegion</th>\n",
              "      <th>BanosDesde</th>\n",
              "    </tr>\n",
              "  </thead>\n",
              "  <tbody>\n",
              "    <tr>\n",
              "      <th>0</th>\n",
              "      <td>2350.0</td>\n",
              "      <td>2.0</td>\n",
              "      <td>44.90</td>\n",
              "      <td>3.0</td>\n",
              "      <td>15.0</td>\n",
              "      <td>1.0</td>\n",
              "    </tr>\n",
              "    <tr>\n",
              "      <th>1</th>\n",
              "      <td>42500.0</td>\n",
              "      <td>1.0</td>\n",
              "      <td>57.68</td>\n",
              "      <td>3.0</td>\n",
              "      <td>15.0</td>\n",
              "      <td>1.0</td>\n",
              "    </tr>\n",
              "    <tr>\n",
              "      <th>2</th>\n",
              "      <td>2350.0</td>\n",
              "      <td>1.0</td>\n",
              "      <td>46.95</td>\n",
              "      <td>8.0</td>\n",
              "      <td>1.0</td>\n",
              "      <td>1.0</td>\n",
              "    </tr>\n",
              "    <tr>\n",
              "      <th>3</th>\n",
              "      <td>2550.0</td>\n",
              "      <td>1.0</td>\n",
              "      <td>45.00</td>\n",
              "      <td>8.0</td>\n",
              "      <td>1.0</td>\n",
              "      <td>1.0</td>\n",
              "    </tr>\n",
              "    <tr>\n",
              "      <th>4</th>\n",
              "      <td>2600.0</td>\n",
              "      <td>3.0</td>\n",
              "      <td>53.00</td>\n",
              "      <td>8.0</td>\n",
              "      <td>1.0</td>\n",
              "      <td>1.0</td>\n",
              "    </tr>\n",
              "  </tbody>\n",
              "</table>\n",
              "</div>"
            ],
            "text/plain": [
              "   PrecioDesde  DormitoriosDesde  ...  IdRegion  BanosDesde\n",
              "0       2350.0               2.0  ...      15.0         1.0\n",
              "1      42500.0               1.0  ...      15.0         1.0\n",
              "2       2350.0               1.0  ...       1.0         1.0\n",
              "3       2550.0               1.0  ...       1.0         1.0\n",
              "4       2600.0               3.0  ...       1.0         1.0\n",
              "\n",
              "[5 rows x 6 columns]"
            ]
          },
          "metadata": {
            "tags": []
          },
          "execution_count": 177
        }
      ]
    },
    {
      "cell_type": "code",
      "metadata": {
        "id": "nr2rtPXrxCJB"
      },
      "source": [
        "#Arreglo de valores del campo que necesitamos predecir\n",
        "y_target = df['Interes'].values\n",
        "\n",
        "#Usamos los datos falsos basado en los datos de entrenamiento\n",
        "x_features_one = dummy.values"
      ],
      "execution_count": 178,
      "outputs": []
    },
    {
      "cell_type": "markdown",
      "metadata": {
        "id": "1HiSpPWUxqIp"
      },
      "source": [
        "**Datos de entrenamiento y pruebas basados en la configuración indicada**"
      ]
    },
    {
      "cell_type": "code",
      "metadata": {
        "id": "d6o_mCXWxwnA"
      },
      "source": [
        "#divide la info en el 25% y un random state para que no sean siempre los mismos datos\n",
        "x_train , x_test, y_train , y_test =  train_test_split(x_features_one, y_target, test_size= .25, random_state=1)"
      ],
      "execution_count": 179,
      "outputs": []
    },
    {
      "cell_type": "markdown",
      "metadata": {
        "id": "chWzfbM3x4E-"
      },
      "source": [
        "**Modelo**"
      ]
    },
    {
      "cell_type": "code",
      "metadata": {
        "id": "VmaNNZDHx0pg"
      },
      "source": [
        "#max_depth=representa que tan profundo puede ser el árbol\n",
        "tree_one = tree.DecisionTreeClassifier(max_depth=3) "
      ],
      "execution_count": 180,
      "outputs": []
    },
    {
      "cell_type": "code",
      "metadata": {
        "colab": {
          "base_uri": "https://localhost:8080/"
        },
        "id": "o9KqUOUQyB9Y",
        "outputId": "eeee28de-b876-4b3d-e3d1-952bf2240a05"
      },
      "source": [
        "#Se construye el árbol a partir de los datos de entrenamiento\n",
        "tree_one = tree_one.fit(x_train,y_train)\n",
        "y_pred = tree_one.predict(x_test)\n",
        "\n",
        "len(y_pred)"
      ],
      "execution_count": 183,
      "outputs": [
        {
          "output_type": "execute_result",
          "data": {
            "text/plain": [
              "120"
            ]
          },
          "metadata": {
            "tags": []
          },
          "execution_count": 183
        }
      ]
    },
    {
      "cell_type": "code",
      "metadata": {
        "colab": {
          "base_uri": "https://localhost:8080/",
          "height": 343
        },
        "id": "cL8cUPmO3ecm",
        "outputId": "83a12289-87b7-4a2c-b14c-dcefd7b49ab7"
      },
      "source": [
        "\n",
        "cnf_matrix = metrics.confusion_matrix(y_test, y_pred)\n",
        "cnf_matrix\n",
        "\n",
        "import numpy as np\n",
        "\n",
        "class_names = [0, 1]\n",
        "fig, ax = plt.subplots()\n",
        "tick_marks = np.arange(len(class_names))\n",
        "plt.xticks(tick_marks, class_names)\n",
        "plt.yticks(tick_marks, class_names)\n",
        "\n",
        "sns.heatmap(pd.DataFrame(cnf_matrix), annot = True, cmap = 'Blues_r', fmt = 'g')\n",
        "ax.xaxis.set_label_position('top')\n",
        "plt.tight_layout()\n",
        "plt.title('Matriz de confusion', y = 1.1)\n",
        "plt.ylabel('Etiqueta actual')\n",
        "plt.xlabel('Etiqueta de predicción')\n"
      ],
      "execution_count": 184,
      "outputs": [
        {
          "output_type": "execute_result",
          "data": {
            "text/plain": [
              "Text(0.5, 257.44, 'Etiqueta de predicción')"
            ]
          },
          "metadata": {
            "tags": []
          },
          "execution_count": 184
        },
        {
          "output_type": "display_data",
          "data": {
            "image/png": "[encoded data removed]",
            "text/plain": [
              "<Figure size 432x288 with 2 Axes>"
            ]
          },
          "metadata": {
            "tags": [],
            "needs_background": "light"
          }
        }
      ]
    },
    {
      "cell_type": "code",
      "metadata": {
        "colab": {
          "base_uri": "https://localhost:8080/"
        },
        "id": "B2_NhA8fyMjw",
        "outputId": "f6c7b84b-736b-4035-c733-4b626d41523d"
      },
      "source": [
        "tree_one_accuracy = round(tree_one.score(x_test,y_test), 4)\n",
        "tree_one_accuracy"
      ],
      "execution_count": 185,
      "outputs": [
        {
          "output_type": "execute_result",
          "data": {
            "text/plain": [
              "0.9667"
            ]
          },
          "metadata": {
            "tags": []
          },
          "execution_count": 185
        }
      ]
    }
  ]
}